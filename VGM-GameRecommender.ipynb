{
 "cells": [
  {
   "cell_type": "code",
   "execution_count": null,
   "metadata": {},
   "outputs": [],
   "source": [
    "%pip install -q ipywidgets\n",
    "%pip install pandas\n",
    "%pip install matplotlib\n",
    "%pip install seaborn\n",
    "%pip install scikit-learn"
   ]
  },
  {
   "cell_type": "markdown",
   "metadata": {},
   "source": [
    "# VGM Games – Game Recommending System\n",
    "A machine learning model that uses historical data to analyze and suggest games with a simple prompt-based GUI"
   ]
  },
  {
   "cell_type": "markdown",
   "metadata": {},
   "source": [
    "## Import necessary libraries"
   ]
  },
  {
   "cell_type": "code",
   "execution_count": null,
   "metadata": {},
   "outputs": [],
   "source": [
    "import pandas as pa\n",
    "import numpy as np\n",
    "import matplotlib.pyplot as plt\n",
    "import seaborn as sns\n",
    "\n",
    "from sklearn.feature_extraction.text import TfidfVectorizer\n",
    "from sklearn.preprocessing import StandardScaler\n",
    "from sklearn.neighbors import NearestNeighbors\n",
    "from sklearn.metrics.pairwise import cosine_similarity\n",
    "from ipywidgets import interact, widgets\n",
    "from IPython.display import display, HTML\n",
    "\n",
    "# supress warning from pandas\n",
    "pa.options.mode.chained_assignment = None"
   ]
  },
  {
   "cell_type": "markdown",
   "metadata": {},
   "source": [
    "## Read dataset from file\n",
    "[Dataset - Video Game Sales with Ratings](https://www.kaggle.com/datasets/rush4ratio/video-game-sales-with-ratings)"
   ]
  },
  {
   "cell_type": "code",
   "execution_count": null,
   "metadata": {},
   "outputs": [],
   "source": [
    "# read dataset\n",
    "videogames_df = pa.read_csv('./Video_Games_Sales_as_at_22_Dec_2016.csv')\n",
    "videogames_df.head(10)"
   ]
  },
  {
   "cell_type": "markdown",
   "metadata": {},
   "source": [
    "## Select relevant columns\n",
    "Use a subset of columns from source"
   ]
  },
  {
   "cell_type": "code",
   "execution_count": null,
   "metadata": {},
   "outputs": [],
   "source": [
    "# select columns needed from set\n",
    "videogames_df_filtered = videogames_df[['Name', 'Platform', 'Global_Sales', 'Genre', 'Critic_Score', 'User_Score']]"
   ]
  },
  {
   "cell_type": "markdown",
   "metadata": {},
   "source": [
    "## Prepare data\n",
    "Prepare dataset for training. Remove null or empty values and impute missing values"
   ]
  },
  {
   "cell_type": "code",
   "execution_count": null,
   "metadata": {},
   "outputs": [],
   "source": [
    "# check for missing values\n",
    "videogames_df_filtered[['Name', 'Platform', 'Global_Sales', 'Genre', 'Critic_Score', 'User_Score']].isna().sum()"
   ]
  },
  {
   "cell_type": "code",
   "execution_count": null,
   "metadata": {},
   "outputs": [],
   "source": [
    "# drop entries with missing values and reset index\n",
    "videogames_df_filtered.dropna(subset=['Name', 'Platform', 'Global_Sales', 'Genre', 'Critic_Score', 'User_Score'], axis=0, inplace=True)\n",
    "videogames_df_filtered = videogames_df_filtered.reset_index(drop=True)"
   ]
  },
  {
   "cell_type": "code",
   "execution_count": null,
   "metadata": {},
   "outputs": [],
   "source": [
    "# check for missing values after dropping\n",
    "videogames_df_filtered[['Name', 'Platform', 'Global_Sales', 'Genre', 'Critic_Score', 'User_Score']].isna().sum()"
   ]
  },
  {
   "cell_type": "code",
   "execution_count": null,
   "metadata": {},
   "outputs": [],
   "source": [
    "\n",
    "videogames_df_filtered['User_Score'].describe()"
   ]
  },
  {
   "cell_type": "code",
   "execution_count": null,
   "metadata": {},
   "outputs": [],
   "source": [
    "# convert future user scores set as 'tbd' and change dtype to float\n",
    "videogames_df_filtered['User_Score'] = np.where(videogames_df_filtered['User_Score'] == 'tbd', np.nan, videogames_df_filtered['User_Score']).astype(float)"
   ]
  },
  {
   "cell_type": "code",
   "execution_count": null,
   "metadata": {},
   "outputs": [],
   "source": [
    "videogames_df_filtered['User_Score'].describe()"
   ]
  },
  {
   "cell_type": "code",
   "execution_count": null,
   "metadata": {},
   "outputs": [],
   "source": [
    "# impute missing values\n",
    "mean_score = videogames_df_filtered['User_Score'].mean() \n",
    "videogames_df_filtered['User_Score'] = videogames_df_filtered['User_Score'].fillna(mean_score)\n",
    "videogames_df_filtered['User_Score'].describe()"
   ]
  },
  {
   "cell_type": "markdown",
   "metadata": {},
   "source": [
    "## Extract categorical columns and create dummy variables\n",
    "Transform categorial columns into as many 0 or 1 variables"
   ]
  },
  {
   "cell_type": "code",
   "execution_count": null,
   "metadata": {},
   "outputs": [],
   "source": [
    "# extract categorical columns\n",
    "categorical_columns = [col for col in videogames_df_filtered.columns if videogames_df_filtered[col].dtype=='O']\n",
    "categorical_columns = categorical_columns[1:]\n",
    "\n",
    "# create dummy variables\n",
    "videogames_df_dummy = pa.get_dummies(data=videogames_df_filtered, columns=categorical_columns)"
   ]
  },
  {
   "cell_type": "markdown",
   "metadata": {},
   "source": [
    "## Vectorize names\n",
    "Measures the importance of the inputted title in the dataset\n",
    "This is used to recommend games when inputed game is not found"
   ]
  },
  {
   "cell_type": "code",
   "execution_count": null,
   "metadata": {},
   "outputs": [],
   "source": [
    "# set text data for vectorization\n",
    "game_names = videogames_df_dummy['Name'].drop_duplicates()\n",
    "game_names = game_names.reset_index(drop=True)\n",
    "\n",
    "# vectorize text\n",
    "vectorizer = TfidfVectorizer(use_idf=True).fit(game_names)\n",
    "game_title_vectors = vectorizer.transform(game_names)"
   ]
  },
  {
   "cell_type": "markdown",
   "metadata": {},
   "source": [
    "## Numerical Feature Scaling\n",
    "Ensures all features are equally accounted in the model, excluding name"
   ]
  },
  {
   "cell_type": "code",
   "execution_count": null,
   "metadata": {},
   "outputs": [],
   "source": [
    "# feature scaling data\n",
    "features = videogames_df_dummy.drop(columns=['Name'], axis=1)\n",
    "\n",
    "scale = StandardScaler()\n",
    "scaled_features = scale.fit_transform(features)\n",
    "scaled_features = pa.DataFrame(scaled_features, columns=features.columns)"
   ]
  },
  {
   "cell_type": "markdown",
   "metadata": {},
   "source": [
    "## Train model\n",
    "Nearest Neighbor algorithm with cosine similarity as a distance metric and k-neighbors to find the distances of neighbors for each point. "
   ]
  },
  {
   "cell_type": "code",
   "execution_count": null,
   "metadata": {},
   "outputs": [],
   "source": [
    "# train the nearest neighbor model with cosine similarity\n",
    "model = NearestNeighbors(n_neighbors=11, metric='cosine', algorithm='brute').fit(scaled_features)\n",
    "distances, indices = model.kneighbors(scaled_features)"
   ]
  },
  {
   "cell_type": "markdown",
   "metadata": {},
   "source": [
    "## Recommender function\n",
    "Handles 2 scenerios:\n",
    "- If the entered game name exists, it recommends games based on the model\n",
    "- If the entered game name does not exist, it recommends games based on the title as alternative\n",
    "Returns a dataframe containing games"
   ]
  },
  {
   "cell_type": "code",
   "execution_count": null,
   "metadata": {},
   "outputs": [],
   "source": [
    "def GameRecommender(entered_videogame):\n",
    "    # check if the entered game exists\n",
    "    videogame_idx = videogames_df_filtered.query(\"Name == @entered_videogame\").index\n",
    "    \n",
    "    if videogame_idx.empty:\n",
    "        # if the entered game is not found, recommend similar games from title as alternatives\n",
    "        query_vector = vectorizer.transform([entered_videogame])\n",
    "        similarity_scores = cosine_similarity(query_vector, game_title_vectors)\n",
    "\n",
    "        flat_similarity = similarity_scores.flatten()\n",
    "\n",
    "        # sort and get first 5\n",
    "        sorted_idx = np.argsort(flat_similarity)[::-1]\n",
    "\n",
    "        row_idx, col_idx = np.unravel_index(sorted_idx[:5], similarity_scores.shape)\n",
    "        top_values = similarity_scores[row_idx, col_idx]\n",
    "\n",
    "        matched_names = []\n",
    "        for i in range(len(top_values)):\n",
    "            matched_names.append(game_names[col_idx[i]])\n",
    "\n",
    "        # create dataframe from found games\n",
    "        recommended_videogame_list = pa.DataFrame({'Name': matched_names})\n",
    "        return {'dataframe': recommended_videogame_list, 'found_game': False}\n",
    "    \n",
    "    else:\n",
    "        # if the entered game exists, recommend similar games based on cosine similarity\n",
    "        # prepare a DataFrame with indices and distances from model  \n",
    "        videogame_dist_idx_df = pa.DataFrame()\n",
    "        for idx in videogame_idx:\n",
    "            # remove any games with the same name as entered\n",
    "            vg_dist_idx_df = pa.concat([pa.DataFrame(indices[idx][1:]), pa.DataFrame(distances[idx][1:])], axis=1)\n",
    "            videogame_dist_idx_df = pa.concat([videogame_dist_idx_df, vg_dist_idx_df])\n",
    "\n",
    "        # set column names and sort by distance\n",
    "        videogame_dist_idx_df = videogame_dist_idx_df.set_axis(['Idx', 'Dist'], axis=1)\n",
    "        videogame_dist_idx_df = videogame_dist_idx_df.reset_index(drop=True)\n",
    "        videogame_dist_idx_df = videogame_dist_idx_df.sort_values(by='Dist', ascending=True)\n",
    "\n",
    "        # retrieve recommended games from the original dataset\n",
    "        videogame_list = videogames_df_filtered.iloc[videogame_dist_idx_df['Idx']]\n",
    "\n",
    "        # remove duplicate game names\n",
    "        videogame_list = videogame_list.drop_duplicates(subset=['Name'], keep='first')\n",
    "\n",
    "        # create dataframe of recommended games DataFrame and append their similarity distance\n",
    "        videogame_list = videogame_list.reset_index(drop=True)\n",
    "        recommended_videogame_list = pa.concat([videogame_list.head(10), pa.DataFrame(np.array(videogame_dist_idx_df['Dist'].head(10)), columns=['Cosine_Similarity_Distance'])], axis=1)\n",
    "\n",
    "        return  {'dataframe': recommended_videogame_list, 'found_game': True}"
   ]
  },
  {
   "cell_type": "code",
   "execution_count": null,
   "metadata": {},
   "outputs": [],
   "source": [
    "# text input for entering games\n",
    "game_name_widget = widgets.Text(\n",
    "    description=\"Enter Game Name\", \n",
    "    layout=widgets.Layout(display='flex', flex_flow='column', align_items='center'),\n",
    "    style=dict(\n",
    "    description_width='initial'))\n",
    "\n",
    "\n",
    "# submit button\n",
    "submit_button = widgets.Button(\n",
    "    description=\"Submit\", \n",
    "    button_style='success', \n",
    "    layout=widgets.Layout(display='flex', justify_content='center'))\n",
    "\n",
    "\n",
    "# widget to display game recommendations\n",
    "output_widget = widgets.Output()\n",
    "\n",
    "# function to handle submission, displays recommendations\n",
    "def on_submit_button(submit_button):\n",
    "    entered_game = game_name_widget.value\n",
    "\n",
    "    # result table\n",
    "    recommended_games = GameRecommender(entered_game)['dataframe']\n",
    "    header_description = f\"Here are some recommendations for {entered_game}:\" if GameRecommender(entered_game)['found_game'] else \"That game was not found, did you mean one of these:\"\n",
    "\n",
    "    # result header\n",
    "    list_header = widgets.Label(\n",
    "        value = header_description, \n",
    "        layout=widgets.Layout(display='flex', flex_flow='column', align_items='center'),\n",
    "        style=dict(\n",
    "        description_width='initial',\n",
    "        gap='10px'))\n",
    "    \n",
    "    # clear previous outputs\n",
    "    with output_widget:\n",
    "        output_widget.clear_output()\n",
    "    \n",
    "    # display recommendations\n",
    "    with output_widget:\n",
    "        if not recommended_games.empty:\n",
    "            display(list_header,recommended_games)\n",
    "\n",
    "# handle button event\n",
    "submit_button.on_click(on_submit_button)\n",
    "\n",
    "# display widgets\n",
    "display(widgets.VBox([game_name_widget, submit_button, output_widget], layout=widgets.Layout(align_items='center', width=\"auto\", height='auto')))\n",
    "\n",
    "# set custom styling\n",
    "display(HTML(\"\"\"<style> \n",
    "             .widget-vbox { border: grey solid 1px; border-radius: 10px; box-shadow: rgba(0, 0, 0, 0.35) 0px 5px 15px;max-width: 60vw; margin: 2rem auto; padding: 2rem} \n",
    "             .widget-text { gap: 5px;} \n",
    "             .widget-button { border-radius: 20px; margin: 10px; font-size: 1rem; description-width: initial} \n",
    "             .widget-label { font-size: 1rem }\n",
    "             </style>\"\"\"))"
   ]
  }
 ],
 "metadata": {
  "kernelspec": {
   "display_name": "Python 3",
   "language": "python",
   "name": "python3"
  },
  "language_info": {
   "codemirror_mode": {
    "name": "ipython",
    "version": 3
   },
   "file_extension": ".py",
   "mimetype": "text/x-python",
   "name": "python",
   "nbconvert_exporter": "python",
   "pygments_lexer": "ipython3",
   "version": "3.11.9"
  }
 },
 "nbformat": 4,
 "nbformat_minor": 2
}
