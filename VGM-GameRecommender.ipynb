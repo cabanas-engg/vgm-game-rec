{
 "cells": [
  {
   "cell_type": "markdown",
   "metadata": {},
   "source": [
    "Installing libraries, please wait unil finished"
   ]
  },
  {
   "cell_type": "code",
   "execution_count": null,
   "metadata": {},
   "outputs": [],
   "source": [
    "%pip install -q ipywidgets\n",
    "%pip install pandas\n",
    "%pip install matplotlib\n",
    "%pip install seaborn\n",
    "%pip install scikit-learn"
   ]
  },
  {
   "cell_type": "markdown",
   "metadata": {},
   "source": [
    "# VGM Games – Game Recommending System\n",
    "A machine learning model that uses historical data to analyze and suggest games with a simple prompt-based GUI"
   ]
  },
  {
   "cell_type": "markdown",
   "metadata": {},
   "source": [
    "## Import necessary libraries"
   ]
  },
  {
   "cell_type": "code",
   "execution_count": 2,
   "metadata": {},
   "outputs": [],
   "source": [
    "import pandas as pa\n",
    "import numpy as np\n",
    "import matplotlib.pyplot as plt\n",
    "import seaborn as sns\n",
    "\n",
    "from sklearn.feature_extraction.text import TfidfVectorizer\n",
    "from sklearn.preprocessing import StandardScaler\n",
    "from sklearn.neighbors import NearestNeighbors\n",
    "from sklearn.metrics.pairwise import cosine_similarity\n",
    "from ipywidgets import interact, widgets\n",
    "from IPython.display import display, HTML\n",
    "\n",
    "# supress warning from pandas\n",
    "pa.options.mode.chained_assignment = None"
   ]
  },
  {
   "cell_type": "markdown",
   "metadata": {},
   "source": [
    "## Read dataset from file\n",
    "[Dataset - Video Game Sales with Ratings](https://www.kaggle.com/datasets/rush4ratio/video-game-sales-with-ratings)"
   ]
  },
  {
   "cell_type": "code",
   "execution_count": 3,
   "metadata": {},
   "outputs": [
    {
     "data": {
      "text/html": [
       "<div>\n",
       "<style scoped>\n",
       "    .dataframe tbody tr th:only-of-type {\n",
       "        vertical-align: middle;\n",
       "    }\n",
       "\n",
       "    .dataframe tbody tr th {\n",
       "        vertical-align: top;\n",
       "    }\n",
       "\n",
       "    .dataframe thead th {\n",
       "        text-align: right;\n",
       "    }\n",
       "</style>\n",
       "<table border=\"1\" class=\"dataframe\">\n",
       "  <thead>\n",
       "    <tr style=\"text-align: right;\">\n",
       "      <th></th>\n",
       "      <th>Name</th>\n",
       "      <th>Platform</th>\n",
       "      <th>Year_of_Release</th>\n",
       "      <th>Genre</th>\n",
       "      <th>Publisher</th>\n",
       "      <th>NA_Sales</th>\n",
       "      <th>EU_Sales</th>\n",
       "      <th>JP_Sales</th>\n",
       "      <th>Other_Sales</th>\n",
       "      <th>Global_Sales</th>\n",
       "      <th>Critic_Score</th>\n",
       "      <th>Critic_Count</th>\n",
       "      <th>User_Score</th>\n",
       "      <th>User_Count</th>\n",
       "      <th>Developer</th>\n",
       "      <th>Rating</th>\n",
       "    </tr>\n",
       "  </thead>\n",
       "  <tbody>\n",
       "    <tr>\n",
       "      <th>0</th>\n",
       "      <td>Wii Sports</td>\n",
       "      <td>Wii</td>\n",
       "      <td>2006.0</td>\n",
       "      <td>Sports</td>\n",
       "      <td>Nintendo</td>\n",
       "      <td>41.36</td>\n",
       "      <td>28.96</td>\n",
       "      <td>3.77</td>\n",
       "      <td>8.45</td>\n",
       "      <td>82.53</td>\n",
       "      <td>76.0</td>\n",
       "      <td>51.0</td>\n",
       "      <td>8</td>\n",
       "      <td>322.0</td>\n",
       "      <td>Nintendo</td>\n",
       "      <td>E</td>\n",
       "    </tr>\n",
       "    <tr>\n",
       "      <th>1</th>\n",
       "      <td>Super Mario Bros.</td>\n",
       "      <td>NES</td>\n",
       "      <td>1985.0</td>\n",
       "      <td>Platform</td>\n",
       "      <td>Nintendo</td>\n",
       "      <td>29.08</td>\n",
       "      <td>3.58</td>\n",
       "      <td>6.81</td>\n",
       "      <td>0.77</td>\n",
       "      <td>40.24</td>\n",
       "      <td>NaN</td>\n",
       "      <td>NaN</td>\n",
       "      <td>NaN</td>\n",
       "      <td>NaN</td>\n",
       "      <td>NaN</td>\n",
       "      <td>NaN</td>\n",
       "    </tr>\n",
       "    <tr>\n",
       "      <th>2</th>\n",
       "      <td>Mario Kart Wii</td>\n",
       "      <td>Wii</td>\n",
       "      <td>2008.0</td>\n",
       "      <td>Racing</td>\n",
       "      <td>Nintendo</td>\n",
       "      <td>15.68</td>\n",
       "      <td>12.76</td>\n",
       "      <td>3.79</td>\n",
       "      <td>3.29</td>\n",
       "      <td>35.52</td>\n",
       "      <td>82.0</td>\n",
       "      <td>73.0</td>\n",
       "      <td>8.3</td>\n",
       "      <td>709.0</td>\n",
       "      <td>Nintendo</td>\n",
       "      <td>E</td>\n",
       "    </tr>\n",
       "    <tr>\n",
       "      <th>3</th>\n",
       "      <td>Wii Sports Resort</td>\n",
       "      <td>Wii</td>\n",
       "      <td>2009.0</td>\n",
       "      <td>Sports</td>\n",
       "      <td>Nintendo</td>\n",
       "      <td>15.61</td>\n",
       "      <td>10.93</td>\n",
       "      <td>3.28</td>\n",
       "      <td>2.95</td>\n",
       "      <td>32.77</td>\n",
       "      <td>80.0</td>\n",
       "      <td>73.0</td>\n",
       "      <td>8</td>\n",
       "      <td>192.0</td>\n",
       "      <td>Nintendo</td>\n",
       "      <td>E</td>\n",
       "    </tr>\n",
       "    <tr>\n",
       "      <th>4</th>\n",
       "      <td>Pokemon Red/Pokemon Blue</td>\n",
       "      <td>GB</td>\n",
       "      <td>1996.0</td>\n",
       "      <td>Role-Playing</td>\n",
       "      <td>Nintendo</td>\n",
       "      <td>11.27</td>\n",
       "      <td>8.89</td>\n",
       "      <td>10.22</td>\n",
       "      <td>1.00</td>\n",
       "      <td>31.37</td>\n",
       "      <td>NaN</td>\n",
       "      <td>NaN</td>\n",
       "      <td>NaN</td>\n",
       "      <td>NaN</td>\n",
       "      <td>NaN</td>\n",
       "      <td>NaN</td>\n",
       "    </tr>\n",
       "    <tr>\n",
       "      <th>5</th>\n",
       "      <td>Tetris</td>\n",
       "      <td>GB</td>\n",
       "      <td>1989.0</td>\n",
       "      <td>Puzzle</td>\n",
       "      <td>Nintendo</td>\n",
       "      <td>23.20</td>\n",
       "      <td>2.26</td>\n",
       "      <td>4.22</td>\n",
       "      <td>0.58</td>\n",
       "      <td>30.26</td>\n",
       "      <td>NaN</td>\n",
       "      <td>NaN</td>\n",
       "      <td>NaN</td>\n",
       "      <td>NaN</td>\n",
       "      <td>NaN</td>\n",
       "      <td>NaN</td>\n",
       "    </tr>\n",
       "    <tr>\n",
       "      <th>6</th>\n",
       "      <td>New Super Mario Bros.</td>\n",
       "      <td>DS</td>\n",
       "      <td>2006.0</td>\n",
       "      <td>Platform</td>\n",
       "      <td>Nintendo</td>\n",
       "      <td>11.28</td>\n",
       "      <td>9.14</td>\n",
       "      <td>6.50</td>\n",
       "      <td>2.88</td>\n",
       "      <td>29.80</td>\n",
       "      <td>89.0</td>\n",
       "      <td>65.0</td>\n",
       "      <td>8.5</td>\n",
       "      <td>431.0</td>\n",
       "      <td>Nintendo</td>\n",
       "      <td>E</td>\n",
       "    </tr>\n",
       "    <tr>\n",
       "      <th>7</th>\n",
       "      <td>Wii Play</td>\n",
       "      <td>Wii</td>\n",
       "      <td>2006.0</td>\n",
       "      <td>Misc</td>\n",
       "      <td>Nintendo</td>\n",
       "      <td>13.96</td>\n",
       "      <td>9.18</td>\n",
       "      <td>2.93</td>\n",
       "      <td>2.84</td>\n",
       "      <td>28.92</td>\n",
       "      <td>58.0</td>\n",
       "      <td>41.0</td>\n",
       "      <td>6.6</td>\n",
       "      <td>129.0</td>\n",
       "      <td>Nintendo</td>\n",
       "      <td>E</td>\n",
       "    </tr>\n",
       "    <tr>\n",
       "      <th>8</th>\n",
       "      <td>New Super Mario Bros. Wii</td>\n",
       "      <td>Wii</td>\n",
       "      <td>2009.0</td>\n",
       "      <td>Platform</td>\n",
       "      <td>Nintendo</td>\n",
       "      <td>14.44</td>\n",
       "      <td>6.94</td>\n",
       "      <td>4.70</td>\n",
       "      <td>2.24</td>\n",
       "      <td>28.32</td>\n",
       "      <td>87.0</td>\n",
       "      <td>80.0</td>\n",
       "      <td>8.4</td>\n",
       "      <td>594.0</td>\n",
       "      <td>Nintendo</td>\n",
       "      <td>E</td>\n",
       "    </tr>\n",
       "    <tr>\n",
       "      <th>9</th>\n",
       "      <td>Duck Hunt</td>\n",
       "      <td>NES</td>\n",
       "      <td>1984.0</td>\n",
       "      <td>Shooter</td>\n",
       "      <td>Nintendo</td>\n",
       "      <td>26.93</td>\n",
       "      <td>0.63</td>\n",
       "      <td>0.28</td>\n",
       "      <td>0.47</td>\n",
       "      <td>28.31</td>\n",
       "      <td>NaN</td>\n",
       "      <td>NaN</td>\n",
       "      <td>NaN</td>\n",
       "      <td>NaN</td>\n",
       "      <td>NaN</td>\n",
       "      <td>NaN</td>\n",
       "    </tr>\n",
       "  </tbody>\n",
       "</table>\n",
       "</div>"
      ],
      "text/plain": [
       "                        Name Platform  Year_of_Release         Genre  \\\n",
       "0                 Wii Sports      Wii           2006.0        Sports   \n",
       "1          Super Mario Bros.      NES           1985.0      Platform   \n",
       "2             Mario Kart Wii      Wii           2008.0        Racing   \n",
       "3          Wii Sports Resort      Wii           2009.0        Sports   \n",
       "4   Pokemon Red/Pokemon Blue       GB           1996.0  Role-Playing   \n",
       "5                     Tetris       GB           1989.0        Puzzle   \n",
       "6      New Super Mario Bros.       DS           2006.0      Platform   \n",
       "7                   Wii Play      Wii           2006.0          Misc   \n",
       "8  New Super Mario Bros. Wii      Wii           2009.0      Platform   \n",
       "9                  Duck Hunt      NES           1984.0       Shooter   \n",
       "\n",
       "  Publisher  NA_Sales  EU_Sales  JP_Sales  Other_Sales  Global_Sales  \\\n",
       "0  Nintendo     41.36     28.96      3.77         8.45         82.53   \n",
       "1  Nintendo     29.08      3.58      6.81         0.77         40.24   \n",
       "2  Nintendo     15.68     12.76      3.79         3.29         35.52   \n",
       "3  Nintendo     15.61     10.93      3.28         2.95         32.77   \n",
       "4  Nintendo     11.27      8.89     10.22         1.00         31.37   \n",
       "5  Nintendo     23.20      2.26      4.22         0.58         30.26   \n",
       "6  Nintendo     11.28      9.14      6.50         2.88         29.80   \n",
       "7  Nintendo     13.96      9.18      2.93         2.84         28.92   \n",
       "8  Nintendo     14.44      6.94      4.70         2.24         28.32   \n",
       "9  Nintendo     26.93      0.63      0.28         0.47         28.31   \n",
       "\n",
       "   Critic_Score  Critic_Count User_Score  User_Count Developer Rating  \n",
       "0          76.0          51.0          8       322.0  Nintendo      E  \n",
       "1           NaN           NaN        NaN         NaN       NaN    NaN  \n",
       "2          82.0          73.0        8.3       709.0  Nintendo      E  \n",
       "3          80.0          73.0          8       192.0  Nintendo      E  \n",
       "4           NaN           NaN        NaN         NaN       NaN    NaN  \n",
       "5           NaN           NaN        NaN         NaN       NaN    NaN  \n",
       "6          89.0          65.0        8.5       431.0  Nintendo      E  \n",
       "7          58.0          41.0        6.6       129.0  Nintendo      E  \n",
       "8          87.0          80.0        8.4       594.0  Nintendo      E  \n",
       "9           NaN           NaN        NaN         NaN       NaN    NaN  "
      ]
     },
     "execution_count": 3,
     "metadata": {},
     "output_type": "execute_result"
    }
   ],
   "source": [
    "# read dataset\n",
    "videogames_df = pa.read_csv('./Video_Games_Sales_as_at_22_Dec_2016.csv')\n",
    "videogames_df.head(10)"
   ]
  },
  {
   "cell_type": "markdown",
   "metadata": {},
   "source": [
    "## Select relevant columns\n",
    "Use a subset of columns from source"
   ]
  },
  {
   "cell_type": "code",
   "execution_count": 4,
   "metadata": {},
   "outputs": [],
   "source": [
    "# select columns needed from set\n",
    "videogames_df_filtered = videogames_df[['Name', 'Platform', 'Global_Sales', 'Genre', 'Critic_Score', 'User_Score']]"
   ]
  },
  {
   "cell_type": "markdown",
   "metadata": {},
   "source": [
    "## Prepare data\n",
    "Prepare dataset for training. Remove null or empty values and impute missing values"
   ]
  },
  {
   "cell_type": "code",
   "execution_count": 5,
   "metadata": {},
   "outputs": [
    {
     "data": {
      "text/plain": [
       "Name               2\n",
       "Platform           0\n",
       "Global_Sales       0\n",
       "Genre              2\n",
       "Critic_Score    8582\n",
       "User_Score      6704\n",
       "dtype: int64"
      ]
     },
     "execution_count": 5,
     "metadata": {},
     "output_type": "execute_result"
    }
   ],
   "source": [
    "# check for missing values\n",
    "videogames_df_filtered[['Name', 'Platform', 'Global_Sales', 'Genre', 'Critic_Score', 'User_Score']].isna().sum()"
   ]
  },
  {
   "cell_type": "code",
   "execution_count": 6,
   "metadata": {},
   "outputs": [],
   "source": [
    "# drop entries with missing values and reset index\n",
    "videogames_df_filtered.dropna(subset=['Name', 'Platform', 'Global_Sales', 'Genre', 'Critic_Score', 'User_Score'], axis=0, inplace=True)\n",
    "videogames_df_filtered = videogames_df_filtered.reset_index(drop=True)"
   ]
  },
  {
   "cell_type": "code",
   "execution_count": 7,
   "metadata": {},
   "outputs": [
    {
     "data": {
      "text/plain": [
       "Name            0\n",
       "Platform        0\n",
       "Global_Sales    0\n",
       "Genre           0\n",
       "Critic_Score    0\n",
       "User_Score      0\n",
       "dtype: int64"
      ]
     },
     "execution_count": 7,
     "metadata": {},
     "output_type": "execute_result"
    }
   ],
   "source": [
    "# check for missing values after dropping\n",
    "videogames_df_filtered[['Name', 'Platform', 'Global_Sales', 'Genre', 'Critic_Score', 'User_Score']].isna().sum()"
   ]
  },
  {
   "cell_type": "code",
   "execution_count": 8,
   "metadata": {},
   "outputs": [
    {
     "data": {
      "text/plain": [
       "count     8099\n",
       "unique      90\n",
       "top        tbd\n",
       "freq      1082\n",
       "Name: User_Score, dtype: object"
      ]
     },
     "execution_count": 8,
     "metadata": {},
     "output_type": "execute_result"
    }
   ],
   "source": [
    "\n",
    "videogames_df_filtered['User_Score'].describe()"
   ]
  },
  {
   "cell_type": "code",
   "execution_count": 9,
   "metadata": {},
   "outputs": [],
   "source": [
    "# convert future user scores set as 'tbd' and change dtype to float\n",
    "videogames_df_filtered['User_Score'] = np.where(videogames_df_filtered['User_Score'] == 'tbd', np.nan, videogames_df_filtered['User_Score']).astype(float)"
   ]
  },
  {
   "cell_type": "code",
   "execution_count": 10,
   "metadata": {},
   "outputs": [
    {
     "data": {
      "text/plain": [
       "count    7017.000000\n",
       "mean        7.182428\n",
       "std         1.441241\n",
       "min         0.500000\n",
       "25%         6.500000\n",
       "50%         7.500000\n",
       "75%         8.200000\n",
       "max         9.600000\n",
       "Name: User_Score, dtype: float64"
      ]
     },
     "execution_count": 10,
     "metadata": {},
     "output_type": "execute_result"
    }
   ],
   "source": [
    "videogames_df_filtered['User_Score'].describe()"
   ]
  },
  {
   "cell_type": "code",
   "execution_count": 11,
   "metadata": {},
   "outputs": [
    {
     "data": {
      "text/plain": [
       "count    8099.000000\n",
       "mean        7.182428\n",
       "std         1.341506\n",
       "min         0.500000\n",
       "25%         6.700000\n",
       "50%         7.300000\n",
       "75%         8.100000\n",
       "max         9.600000\n",
       "Name: User_Score, dtype: float64"
      ]
     },
     "execution_count": 11,
     "metadata": {},
     "output_type": "execute_result"
    }
   ],
   "source": [
    "# impute missing values\n",
    "mean_score = videogames_df_filtered['User_Score'].mean() \n",
    "videogames_df_filtered['User_Score'] = videogames_df_filtered['User_Score'].fillna(mean_score)\n",
    "videogames_df_filtered['User_Score'].describe()"
   ]
  },
  {
   "cell_type": "markdown",
   "metadata": {},
   "source": [
    "## Extract categorical columns and create dummy variables\n",
    "Transform categorial columns into as many 0 or 1 variables"
   ]
  },
  {
   "cell_type": "code",
   "execution_count": 12,
   "metadata": {},
   "outputs": [],
   "source": [
    "# extract categorical columns\n",
    "categorical_columns = [col for col in videogames_df_filtered.columns if videogames_df_filtered[col].dtype=='O']\n",
    "categorical_columns = categorical_columns[1:]\n",
    "\n",
    "# create dummy variables\n",
    "videogames_df_dummy = pa.get_dummies(data=videogames_df_filtered, columns=categorical_columns)"
   ]
  },
  {
   "cell_type": "markdown",
   "metadata": {},
   "source": [
    "## Vectorize names\n",
    "Measures the importance of the inputted title in the dataset\n",
    "This is used to recommend games when inputed game is not found"
   ]
  },
  {
   "cell_type": "code",
   "execution_count": 13,
   "metadata": {},
   "outputs": [],
   "source": [
    "# set text data for vectorization\n",
    "game_names = videogames_df_dummy['Name'].drop_duplicates()\n",
    "game_names = game_names.reset_index(drop=True)\n",
    "\n",
    "# vectorize text\n",
    "vectorizer = TfidfVectorizer(use_idf=True).fit(game_names)\n",
    "game_title_vectors = vectorizer.transform(game_names)"
   ]
  },
  {
   "cell_type": "markdown",
   "metadata": {},
   "source": [
    "## Numerical Feature Scaling\n",
    "Ensures all features are equally accounted in the model, excluding name"
   ]
  },
  {
   "cell_type": "code",
   "execution_count": 14,
   "metadata": {},
   "outputs": [],
   "source": [
    "# feature scaling data\n",
    "features = videogames_df_dummy.drop(columns=['Name'], axis=1)\n",
    "\n",
    "scale = StandardScaler()\n",
    "scaled_features = scale.fit_transform(features)\n",
    "scaled_features = pa.DataFrame(scaled_features, columns=features.columns)"
   ]
  },
  {
   "cell_type": "markdown",
   "metadata": {},
   "source": [
    "## Train model\n",
    "Nearest Neighbor algorithm with cosine similarity as a distance metric and k-neighbors to find the distances of neighbors for each point. "
   ]
  },
  {
   "cell_type": "code",
   "execution_count": 15,
   "metadata": {},
   "outputs": [],
   "source": [
    "# train the nearest neighbor model with cosine similarity\n",
    "model = NearestNeighbors(n_neighbors=11, metric='cosine', algorithm='brute').fit(scaled_features)\n",
    "distances, indices = model.kneighbors(scaled_features)"
   ]
  },
  {
   "cell_type": "markdown",
   "metadata": {},
   "source": [
    "## Recommender function\n",
    "Handles 2 scenerios:\n",
    "- If the entered game name exists, it recommends games based on the model\n",
    "- If the entered game name does not exist, it recommends games based on the title as alternative\n",
    "Returns a dataframe containing games"
   ]
  },
  {
   "cell_type": "code",
   "execution_count": 16,
   "metadata": {},
   "outputs": [],
   "source": [
    "def GameRecommender(entered_videogame):\n",
    "    # check if the entered game exists\n",
    "    videogame_idx = videogames_df_filtered.query(\"Name == @entered_videogame\").index\n",
    "    \n",
    "    if videogame_idx.empty:\n",
    "        # if the entered game is not found, recommend similar games from title as alternatives\n",
    "        query_vector = vectorizer.transform([entered_videogame])\n",
    "        similarity_scores = cosine_similarity(query_vector, game_title_vectors)\n",
    "\n",
    "        flat_similarity = similarity_scores.flatten()\n",
    "\n",
    "        # sort and get first 5\n",
    "        sorted_idx = np.argsort(flat_similarity)[::-1]\n",
    "\n",
    "        row_idx, col_idx = np.unravel_index(sorted_idx[:5], similarity_scores.shape)\n",
    "        top_values = similarity_scores[row_idx, col_idx]\n",
    "\n",
    "        matched_names = []\n",
    "        for i in range(len(top_values)):\n",
    "            matched_names.append(game_names[col_idx[i]])\n",
    "\n",
    "        # create dataframe from found games\n",
    "        recommended_videogame_list = pa.DataFrame({'Name': matched_names})\n",
    "        return {'dataframe': recommended_videogame_list, 'found_game': False}\n",
    "    \n",
    "    else:\n",
    "        # if the entered game exists, recommend similar games based on cosine similarity\n",
    "        # prepare a DataFrame with indices and distances from model  \n",
    "        videogame_dist_idx_df = pa.DataFrame()\n",
    "        for idx in videogame_idx:\n",
    "            vg_dist_idx_df = pa.concat([pa.DataFrame(indices[idx][1:]), pa.DataFrame(distances[idx][1:])], axis=1)\n",
    "            videogame_dist_idx_df = pa.concat([videogame_dist_idx_df, vg_dist_idx_df])\n",
    "\n",
    "        # set column names and sort by distance\n",
    "        videogame_dist_idx_df = videogame_dist_idx_df.set_axis(['Idx', 'Dist'], axis=1)\n",
    "        videogame_dist_idx_df = videogame_dist_idx_df.reset_index(drop=True)\n",
    "        videogame_dist_idx_df = videogame_dist_idx_df.sort_values(by='Dist', ascending=True)\n",
    "\n",
    "        # retrieve recommended games from the original dataset\n",
    "        videogame_list = videogames_df_filtered.iloc[videogame_dist_idx_df['Idx']]\n",
    "\n",
    "        # remove duplicate game names\n",
    "        videogame_list = videogame_list.drop_duplicates(subset=['Name'], keep='first')\n",
    "\n",
    "        # create dataframe of recommended games DataFrame and append their similarity distance\n",
    "        videogame_list = videogame_list.reset_index(drop=True)\n",
    "        recommended_videogame_list = pa.concat([videogame_list.head(10), pa.DataFrame(np.array(videogame_dist_idx_df['Dist'].head(10)), columns=['Cosine_Similarity_Distance'])], axis=1)\n",
    "\n",
    "        return  {'dataframe': recommended_videogame_list, 'found_game': True}"
   ]
  },
  {
   "cell_type": "code",
   "execution_count": 19,
   "metadata": {},
   "outputs": [
    {
     "data": {
      "application/vnd.jupyter.widget-view+json": {
       "model_id": "fa989847d720469d8cd00ac960d125b1",
       "version_major": 2,
       "version_minor": 0
      },
      "text/plain": [
       "VBox(children=(Text(value='', description='Enter Game Name', layout=Layout(align_items='center', display='flex…"
      ]
     },
     "metadata": {},
     "output_type": "display_data"
    },
    {
     "data": {
      "text/html": [
       "<style> \n",
       "             .widget-vbox { border: grey solid 1px; border-radius: 10px; box-shadow: rgba(0, 0, 0, 0.35) 0px 5px 15px;max-width: 60vw; margin: 2rem auto; padding: 2rem} \n",
       "             .widget-text { gap: 5px;} \n",
       "             .widget-button { border-radius: 20px; margin: 10px; font-size: 1rem; description-width: initial} \n",
       "             .widget-label { font-size: 1rem }\n",
       "             </style>"
      ],
      "text/plain": [
       "<IPython.core.display.HTML object>"
      ]
     },
     "metadata": {},
     "output_type": "display_data"
    }
   ],
   "source": [
    "# text input for entering games\n",
    "game_name_widget = widgets.Text(\n",
    "    description=\"Enter Game Name\", \n",
    "    layout=widgets.Layout(display='flex', flex_flow='column', align_items='center'),\n",
    "    style=dict(\n",
    "    description_width='initial'))\n",
    "\n",
    "\n",
    "# submit button\n",
    "submit_button = widgets.Button(\n",
    "    description=\"Submit\", \n",
    "    button_style='success', \n",
    "    layout=widgets.Layout(display='flex', justify_content='center'))\n",
    "\n",
    "\n",
    "# widget to display game recommendations\n",
    "output_widget = widgets.Output()\n",
    "\n",
    "# function to handle submission, displays recommendations\n",
    "def on_submit_button(submit_button):\n",
    "    entered_game = game_name_widget.value\n",
    "\n",
    "    # result table\n",
    "    recommended_games = GameRecommender(entered_game)['dataframe']\n",
    "    header_description = f\"Here are some recommendations for {entered_game}:\" if GameRecommender(entered_game)['found_game'] else \"That game was not found in our system, did you mean one of these:\"\n",
    "\n",
    "    # result header\n",
    "    list_header = widgets.Label(\n",
    "        value = header_description, \n",
    "        layout=widgets.Layout(display='flex', flex_flow='column', align_items='center'),\n",
    "        style=dict(\n",
    "        description_width='initial',\n",
    "        gap='10px'))\n",
    "    \n",
    "    # clear previous outputs\n",
    "    with output_widget:\n",
    "        output_widget.clear_output()\n",
    "    \n",
    "    # display recommendations\n",
    "    with output_widget:\n",
    "        if not recommended_games.empty:\n",
    "            display(list_header,recommended_games)\n",
    "\n",
    "# handle button event\n",
    "submit_button.on_click(on_submit_button)\n",
    "\n",
    "# display widgets\n",
    "display(widgets.VBox([game_name_widget, submit_button, output_widget], layout=widgets.Layout(align_items='center', width=\"auto\", height='auto')))\n",
    "\n",
    "# set custom styling\n",
    "display(HTML(\"\"\"<style> \n",
    "             .widget-vbox { border: grey solid 1px; border-radius: 10px; box-shadow: rgba(0, 0, 0, 0.35) 0px 5px 15px;max-width: 60vw; margin: 2rem auto; padding: 2rem} \n",
    "             .widget-text { gap: 5px;} \n",
    "             .widget-button { border-radius: 20px; margin: 10px; font-size: 1rem; description-width: initial} \n",
    "             .widget-label { font-size: 1rem }\n",
    "             </style>\"\"\"))"
   ]
  }
 ],
 "metadata": {
  "kernelspec": {
   "display_name": "Python 3",
   "language": "python",
   "name": "python3"
  },
  "language_info": {
   "codemirror_mode": {
    "name": "ipython",
    "version": 3
   },
   "file_extension": ".py",
   "mimetype": "text/x-python",
   "name": "python",
   "nbconvert_exporter": "python",
   "pygments_lexer": "ipython3",
   "version": "3.11.9"
  }
 },
 "nbformat": 4,
 "nbformat_minor": 2
}
